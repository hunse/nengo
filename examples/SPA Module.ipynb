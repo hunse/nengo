{
 "metadata": {
  "name": ""
 },
 "nbformat": 3,
 "nbformat_minor": 0,
 "worksheets": [
  {
   "cells": [
    {
     "cell_type": "code",
     "collapsed": false,
     "input": [
      "import nengo\n",
      "import nengo.spa as spa\n",
      "\n",
      "model = nengo.Model('SPA sequence')\n",
      "\n",
      "D = 32        \n",
      "    \n",
      "class RouteTest(spa.SPA):\n",
      "    class Rules:\n",
      "        def rule_1(): #can name anything, used only for debugging\n",
      "            match(state='A') #dot product between 'state' and 'A'\n",
      "            effect(state='B') #set the 'state' to 'B'\n",
      "        def rule_2():\n",
      "            match(state='B')\n",
      "            effect(state='C')\n",
      "        def rule_3():\n",
      "            match(state='C')\n",
      "            effect(state='D')\n",
      "        def rule_4():\n",
      "            match(state='D')\n",
      "            effect(state='E')\n",
      "        def rule_5():\n",
      "            match(state='E')\n",
      "            effect(state='A')\n",
      "    \n",
      "    def make(self):\n",
      "        self.add(spa.Memory('state', dimensions=D))\n",
      "\n",
      "        self.add(spa.BasalGanglia('bg', rules=self.Rules))\n",
      "        self.add(spa.Thalamus('thal', 'bg'))\n",
      "        \n",
      "        def input_state(t):\n",
      "            if t<0.25: return 'A'\n",
      "            else: return '0'\n",
      "        self.add(spa.Input('state', input_state))\n",
      "    \n",
      "s = model.add(RouteTest('SPA'))\n",
      "\n",
      "model.probe('SPA.state.state.output', filter=0.03)\n",
      "\n",
      "              \n"
     ],
     "language": "python",
     "metadata": {},
     "outputs": [
      {
       "output_type": "stream",
       "stream": "stderr",
       "text": [
        "WARNING:nengo.objects:Filter set on constant. Usually accidental.\n"
       ]
      }
     ],
     "prompt_number": 1
    },
    {
     "cell_type": "code",
     "collapsed": false,
     "input": [
      "sim = model.simulator()\n",
      "sim.run(1)\n"
     ],
     "language": "python",
     "metadata": {},
     "outputs": [],
     "prompt_number": 2
    },
    {
     "cell_type": "code",
     "collapsed": false,
     "input": [
      "import numpy as np\n",
      "import pylab\n",
      "pylab.subplot(2,1,1)\n",
      "pylab.plot(sim.data(model.t), sim.data('SPA.state.state.output'))\n",
      "pylab.ylabel('a')\n",
      "pylab.subplot(2,1,2)\n",
      "pylab.plot(sim.data(model.t), np.dot(sim.data('SPA.state.state.output'), s.get_module_output('state')[1].vectors.T))\n",
      "pylab.legend(s.get_module_output('state')[1].keys)\n",
      "pylab.ylabel('a')\n",
      "pylab.show()\n",
      "              \n"
     ],
     "language": "python",
     "metadata": {},
     "outputs": [],
     "prompt_number": 3
    },
    {
     "cell_type": "code",
     "collapsed": false,
     "input": [],
     "language": "python",
     "metadata": {},
     "outputs": []
    }
   ],
   "metadata": {}
  }
 ]
}